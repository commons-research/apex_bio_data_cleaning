{
 "cells": [
  {
   "cell_type": "code",
   "execution_count": 2,
   "metadata": {},
   "outputs": [
    {
     "name": "stderr",
     "output_type": "stream",
     "text": [
      "/Users/jadedandois/Desktop/Cours UniFR/3ème Année /SP/Travail de Bachelor /apexbio_data_cleaning/.venv/lib/python3.12/site-packages/tqdm/auto.py:21: TqdmWarning: IProgress not found. Please update jupyter and ipywidgets. See https://ipywidgets.readthedocs.io/en/stable/user_install.html\n",
      "  from .autonotebook import tqdm as notebook_tqdm\n"
     ]
    }
   ],
   "source": [
    "# importer les packages nécessaires \n",
    "import pandas as pd \n",
    "from tqdm.auto import tqdm\n",
    "import requests\n",
    "import pubchempy as pcp "
   ]
  },
  {
   "cell_type": "code",
   "execution_count": 43,
   "metadata": {},
   "outputs": [],
   "source": [
    "# définir une fonction pour lire le tableau excel des donnnées moléculaires \n",
    "df = pd.read_excel(\"apex_bio.xlsx\", sheet_name=\"Chemical Data\") \n",
    "cas_numbers = df[\"CAS Number\"].to_list()\n",
    "\n",
    "def get_cas_data(cas):\n",
    "    df_pubchem = pcp.get_compounds(cas, \"name\", as_dataframe=True)\n",
    "    inchikey = df_pubchem[\"inchikey\"]\n",
    "    inchikey_2D = []\n",
    "    for i in inchikey: \n",
    "        inchikey_2D.append(i[:14])\n",
    "    df_pubchem[\"inchikey 2D\"] = inchikey_2D\n",
    "    df_pubchem.drop_duplicates(\"inchikey 2D\")\n",
    "    return df_pubchem\n",
    "    "
   ]
  },
  {
   "cell_type": "code",
   "execution_count": null,
   "metadata": {},
   "outputs": [
    {
     "name": "stderr",
     "output_type": "stream",
     "text": [
      "100%|██████████| 550/550 [05:15<00:00,  1.74it/s]\n"
     ]
    }
   ],
   "source": [
    "dictionary_data = {}\n",
    "failed_cas = []\n",
    "for x in tqdm(cas_numbers):\n",
    "    try:    \n",
    "        dictionary_data[x] = get_cas_data(x) \n",
    "    except KeyError: \n",
    "        failed_cas.append(x) \n"
   ]
  },
  {
   "cell_type": "code",
   "execution_count": null,
   "metadata": {},
   "outputs": [
    {
     "data": {
      "text/plain": [
       "530"
      ]
     },
     "execution_count": 8,
     "metadata": {},
     "output_type": "execute_result"
    }
   ],
   "source": [
    "len(dictionary_data)"
   ]
  },
  {
   "cell_type": "code",
   "execution_count": 27,
   "metadata": {},
   "outputs": [
    {
     "data": {
      "text/plain": [
       "['1961-12-1',\n",
       " '1953-2-2',\n",
       " '1405-87-4',\n",
       " '1264-72-8',\n",
       " '5053-8-7',\n",
       " '1967-3-8',\n",
       " '1950-4-4',\n",
       " '5451-9-2',\n",
       " '1953-3-2',\n",
       " '5875-6-9',\n",
       " '76135-82-5',\n",
       " '102040-03-9',\n",
       " '65995-63-3',\n",
       " '32451-88-0',\n",
       " '1958-8-2',\n",
       " '6873-9-2',\n",
       " '6859-1-4',\n",
       " '1957-10-3',\n",
       " '67656-30-8,4439-81-2,9685-09-7',\n",
       " '1994-7-5']"
      ]
     },
     "execution_count": 27,
     "metadata": {},
     "output_type": "execute_result"
    }
   ],
   "source": [
    "failed_cas"
   ]
  },
  {
   "cell_type": "code",
   "execution_count": 13,
   "metadata": {},
   "outputs": [
    {
     "name": "stderr",
     "output_type": "stream",
     "text": [
      "100%|██████████| 20/20 [00:08<00:00,  2.38it/s]\n"
     ]
    }
   ],
   "source": [
    "failed_again = []\n",
    "for i in tqdm(failed_cas):\n",
    "    item_name = df[df[\"CAS Number\"]== i]\n",
    "    try:   \n",
    "        iname = item_name[\"Item Name\"] \n",
    "        dictionary_data[i] = get_cas_data(iname.values) \n",
    "    except KeyError: \n",
    "        failed_again.append(i) "
   ]
  },
  {
   "cell_type": "code",
   "execution_count": 34,
   "metadata": {},
   "outputs": [
    {
     "data": {
      "text/plain": [
       "547"
      ]
     },
     "execution_count": 34,
     "metadata": {},
     "output_type": "execute_result"
    }
   ],
   "source": [
    "len(dictionary_data)"
   ]
  },
  {
   "cell_type": "code",
   "execution_count": 28,
   "metadata": {},
   "outputs": [
    {
     "data": {
      "text/plain": [
       "['1405-87-4', '1264-72-8', '76135-82-5']"
      ]
     },
     "execution_count": 28,
     "metadata": {},
     "output_type": "execute_result"
    }
   ],
   "source": [
    "failed_again"
   ]
  }
 ],
 "metadata": {
  "kernelspec": {
   "display_name": ".venv",
   "language": "python",
   "name": "python3"
  },
  "language_info": {
   "codemirror_mode": {
    "name": "ipython",
    "version": 3
   },
   "file_extension": ".py",
   "mimetype": "text/x-python",
   "name": "python",
   "nbconvert_exporter": "python",
   "pygments_lexer": "ipython3",
   "version": "3.12.9"
  }
 },
 "nbformat": 4,
 "nbformat_minor": 2
}
