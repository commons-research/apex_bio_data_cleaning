{
 "cells": [
  {
   "cell_type": "code",
   "execution_count": 1,
   "metadata": {},
   "outputs": [],
   "source": [
    "import pandas as pd\n",
    "import pubchempy as pcp"
   ]
  },
  {
   "cell_type": "code",
   "execution_count": 2,
   "metadata": {},
   "outputs": [],
   "source": [
    "df = pd.read_excel(\"./apex_bio.xlsx\", sheet_name=\"Chemical Data\")"
   ]
  },
  {
   "cell_type": "code",
   "execution_count": 3,
   "metadata": {},
   "outputs": [],
   "source": [
    "# Importing the required libraries\n",
    "import requests\n",
    "\n",
    "# url = df.loc[0, \"URL\"]\n",
    "url = \"http://www.apexbt.com/search.php?catalog=A8538\"\n",
    "data = requests.get(url).text"
   ]
  },
  {
   "cell_type": "code",
   "execution_count": 8,
   "metadata": {},
   "outputs": [
    {
     "name": "stderr",
     "output_type": "stream",
     "text": [
      "/var/folders/ll/v9q3qnpx27d8g0shfnvjnslrfgd6wf/T/ipykernel_63218/3043075831.py:1: FutureWarning: Passing literal html to 'read_html' is deprecated and will be removed in a future version. To read from a literal string, wrap it in a 'StringIO' object.\n",
      "  pd.read_html(data)[1]\n"
     ]
    },
    {
     "data": {
      "text/html": [
       "<div>\n",
       "<style scoped>\n",
       "    .dataframe tbody tr th:only-of-type {\n",
       "        vertical-align: middle;\n",
       "    }\n",
       "\n",
       "    .dataframe tbody tr th {\n",
       "        vertical-align: top;\n",
       "    }\n",
       "\n",
       "    .dataframe thead th {\n",
       "        text-align: right;\n",
       "    }\n",
       "</style>\n",
       "<table border=\"1\" class=\"dataframe\">\n",
       "  <thead>\n",
       "    <tr style=\"text-align: right;\">\n",
       "      <th></th>\n",
       "      <th>0</th>\n",
       "      <th>1</th>\n",
       "    </tr>\n",
       "  </thead>\n",
       "  <tbody>\n",
       "    <tr>\n",
       "      <th>0</th>\n",
       "      <td>Physical Appearance</td>\n",
       "      <td>A solid</td>\n",
       "    </tr>\n",
       "    <tr>\n",
       "      <th>1</th>\n",
       "      <td>Storage</td>\n",
       "      <td>Store at -20°C</td>\n",
       "    </tr>\n",
       "    <tr>\n",
       "      <th>2</th>\n",
       "      <td>M.Wt</td>\n",
       "      <td>163.19</td>\n",
       "    </tr>\n",
       "    <tr>\n",
       "      <th>3</th>\n",
       "      <td>Cas No.</td>\n",
       "      <td>1953-02-2</td>\n",
       "    </tr>\n",
       "    <tr>\n",
       "      <th>4</th>\n",
       "      <td>Formula</td>\n",
       "      <td>C5H9NO3S</td>\n",
       "    </tr>\n",
       "    <tr>\n",
       "      <th>5</th>\n",
       "      <td>Solubility</td>\n",
       "      <td>≥110.6 mg/mL in H2O; ≥120.6 mg/mL in EtOH; ≥6....</td>\n",
       "    </tr>\n",
       "    <tr>\n",
       "      <th>6</th>\n",
       "      <td>Chemical Name</td>\n",
       "      <td>2-(2-sulfanylpropanoylamino)acetic acid</td>\n",
       "    </tr>\n",
       "    <tr>\n",
       "      <th>7</th>\n",
       "      <td>SDF</td>\n",
       "      <td>Download SDF</td>\n",
       "    </tr>\n",
       "    <tr>\n",
       "      <th>8</th>\n",
       "      <td>Canonical SMILES</td>\n",
       "      <td>S[C@H](C)C(NCC(O)=O)=O</td>\n",
       "    </tr>\n",
       "    <tr>\n",
       "      <th>9</th>\n",
       "      <td>Shipping Condition</td>\n",
       "      <td>Small Molecules with Blue Ice, Modified Nucleo...</td>\n",
       "    </tr>\n",
       "    <tr>\n",
       "      <th>10</th>\n",
       "      <td>General tips</td>\n",
       "      <td>We do not recommend long-term storage for the ...</td>\n",
       "    </tr>\n",
       "  </tbody>\n",
       "</table>\n",
       "</div>"
      ],
      "text/plain": [
       "                      0                                                  1\n",
       "0   Physical Appearance                                            A solid\n",
       "1               Storage                                     Store at -20°C\n",
       "2                  M.Wt                                             163.19\n",
       "3               Cas No.                                          1953-02-2\n",
       "4               Formula                                           C5H9NO3S\n",
       "5            Solubility  ≥110.6 mg/mL in H2O; ≥120.6 mg/mL in EtOH; ≥6....\n",
       "6         Chemical Name            2-(2-sulfanylpropanoylamino)acetic acid\n",
       "7                   SDF                                       Download SDF\n",
       "8      Canonical SMILES                             S[C@H](C)C(NCC(O)=O)=O\n",
       "9    Shipping Condition  Small Molecules with Blue Ice, Modified Nucleo...\n",
       "10         General tips  We do not recommend long-term storage for the ..."
      ]
     },
     "execution_count": 8,
     "metadata": {},
     "output_type": "execute_result"
    }
   ],
   "source": [
    "pd.read_html(data)[1]"
   ]
  }
 ],
 "metadata": {
  "kernelspec": {
   "display_name": ".venv",
   "language": "python",
   "name": "python3"
  },
  "language_info": {
   "codemirror_mode": {
    "name": "ipython",
    "version": 3
   },
   "file_extension": ".py",
   "mimetype": "text/x-python",
   "name": "python",
   "nbconvert_exporter": "python",
   "pygments_lexer": "ipython3",
   "version": "3.12.7"
  }
 },
 "nbformat": 4,
 "nbformat_minor": 2
}
